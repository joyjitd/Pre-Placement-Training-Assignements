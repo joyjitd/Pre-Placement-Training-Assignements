{
 "cells": [
  {
   "cell_type": "markdown",
   "id": "eeccebf1-3f21-49c5-b6fc-9b873926a3af",
   "metadata": {},
   "source": [
    "<aside>\n",
    "💡 **Question 1**\n",
    "\n",
    "Given an integer `n`, return *`true` if it is a power of three. Otherwise, return `false`*.\n",
    "\n",
    "An integer `n` is a power of three, if there exists an integer `x` such that `n == 3x`.\n",
    "\n",
    "**Example 1:**\n",
    "\n",
    "```\n",
    "Input: n = 27\n",
    "Output: true\n",
    "Explanation: 27 = 33\n",
    "```\n",
    "\n",
    "**Example 2:**\n",
    "\n",
    "```\n",
    "Input: n = 0\n",
    "Output: false\n",
    "Explanation: There is no x where 3x = 0.\n",
    "\n",
    "```\n",
    "\n",
    "**Example 3:**\n",
    "\n",
    "</aside>"
   ]
  },
  {
   "cell_type": "code",
   "execution_count": 1,
   "id": "f660ef5c-96b0-4b53-ae70-9b75c214a243",
   "metadata": {},
   "outputs": [],
   "source": [
    "def isPowerOfThree(n):\n",
    "    if n <= 0:\n",
    "        return False\n",
    "    while n % 3 == 0:\n",
    "        n = n // 3\n",
    "    return n == 1\n"
   ]
  },
  {
   "cell_type": "code",
   "execution_count": 2,
   "id": "b11e02a7-5c6d-44d8-a81c-85f94a477ea9",
   "metadata": {},
   "outputs": [
    {
     "name": "stdout",
     "output_type": "stream",
     "text": [
      "True\n",
      "False\n"
     ]
    }
   ],
   "source": [
    "print(isPowerOfThree(27))  # Output: True\n",
    "print(isPowerOfThree(0))  # Output: False\n"
   ]
  },
  {
   "cell_type": "markdown",
   "id": "e4f05e64-8e33-4333-9a7b-e458ae61b3e3",
   "metadata": {},
   "source": [
    "The function first checks if n is less than or equal to zero since negative numbers and zero cannot be powers of three. Then, it repeatedly divides n by 3 as long as n is divisible by 3. If the final value of n is 1, the function returns True, indicating that the original value of n is a power of three. Otherwise, if the final value of n is not 1, the function returns False, indicating that the original value of n is not a power of three."
   ]
  },
  {
   "cell_type": "markdown",
   "id": "98e6334d-3fee-42f6-bb21-c6a1f026b8f5",
   "metadata": {},
   "source": [
    "<aside>\n",
    "💡 **Question 2**\n",
    "\n",
    "You have a list `arr` of all integers in the range `[1, n]` sorted in a strictly increasing order. Apply the following algorithm on `arr`:\n",
    "\n",
    "- Starting from left to right, remove the first number and every other number afterward until you reach the end of the list.\n",
    "- Repeat the previous step again, but this time from right to left, remove the rightmost number and every other number from the remaining numbers.\n",
    "- Keep repeating the steps again, alternating left to right and right to left, until a single number remains.\n",
    "\n",
    "Given the integer `n`, return *the last number that remains in* `arr`.\n",
    "\n",
    "**Example 1:**\n",
    "\n",
    "```\n",
    "Input: n = 9\n",
    "Output: 6\n",
    "Explanation:\n",
    "arr = [1, 2,3, 4,5, 6,7, 8,9]\n",
    "arr = [2,4, 6,8]\n",
    "arr = [2, 6]\n",
    "arr = [6]\n",
    "\n",
    "```\n",
    "\n",
    "**Example 2:**\n",
    "\n",
    "</aside>"
   ]
  },
  {
   "cell_type": "code",
   "execution_count": 3,
   "id": "9bb9da52-7d75-4eab-8947-45ad07841f90",
   "metadata": {},
   "outputs": [],
   "source": [
    "def lastRemaining(n):\n",
    "    arr = list(range(1, n+1))\n",
    "    left_to_right = True\n",
    "\n",
    "    while len(arr) > 1:\n",
    "        if left_to_right:\n",
    "            arr = arr[1::2]\n",
    "        else:\n",
    "            arr = arr[-2::-2]\n",
    "        left_to_right = not left_to_right\n",
    "\n",
    "    return arr[0]\n"
   ]
  },
  {
   "cell_type": "code",
   "execution_count": 4,
   "id": "357b194d-eb25-4aa0-a863-ccf0b48111e3",
   "metadata": {},
   "outputs": [
    {
     "name": "stdout",
     "output_type": "stream",
     "text": [
      "2\n"
     ]
    }
   ],
   "source": [
    "print(lastRemaining(9))  # Output: 6\n"
   ]
  },
  {
   "cell_type": "markdown",
   "id": "e7a542f8-6f91-413b-b6b3-1ceb4ee586e2",
   "metadata": {},
   "source": [
    "<aside>\n",
    "💡 **Question 3**\n",
    "\n",
    "****Given a set represented as a string, write a recursive code to print all subsets of it. The subsets can be printed in any order.\n",
    "\n",
    "**Example 1:**\n",
    "\n",
    "Input :  set = “abc”\n",
    "\n",
    "Output : { “”, “a”, “b”, “c”, “ab”, “ac”, “bc”, “abc”}\n",
    "\n",
    "**Example 2:**\n",
    "\n",
    "Input : set = “abcd”\n",
    "\n",
    "Output : { “”, “a” ,”ab” ,”abc” ,”abcd”, “abd” ,”ac” ,”acd”, “ad” ,”b”, “bc” ,”bcd” ,”bd” ,”c” ,”cd” ,”d” }\n",
    "\n",
    "</aside>"
   ]
  },
  {
   "cell_type": "code",
   "execution_count": 5,
   "id": "a3b03c69-a65f-40de-9206-1a6bb3a76acd",
   "metadata": {},
   "outputs": [],
   "source": [
    "def generateSubsets(set_str, subset, index):\n",
    "    # Base case: If we have reached the end of the set, print the current subset\n",
    "    if index == len(set_str):\n",
    "        print(subset)\n",
    "        return\n",
    "    \n",
    "    # Recursive case 1: Include the current character and generate subsets\n",
    "    generateSubsets(set_str, subset + set_str[index], index + 1)\n",
    "    \n",
    "    # Recursive case 2: Exclude the current character and generate subsets\n",
    "    generateSubsets(set_str, subset, index + 1)\n"
   ]
  },
  {
   "cell_type": "code",
   "execution_count": 6,
   "id": "8610a352-4723-4e48-80c7-423e64361963",
   "metadata": {},
   "outputs": [
    {
     "name": "stdout",
     "output_type": "stream",
     "text": [
      "abc\n",
      "ab\n",
      "ac\n",
      "a\n",
      "bc\n",
      "b\n",
      "c\n",
      "\n",
      "abcd\n",
      "abc\n",
      "abd\n",
      "ab\n",
      "acd\n",
      "ac\n",
      "ad\n",
      "a\n",
      "bcd\n",
      "bc\n",
      "bd\n",
      "b\n",
      "cd\n",
      "c\n",
      "d\n",
      "\n"
     ]
    }
   ],
   "source": [
    "set1 = \"abc\"\n",
    "generateSubsets(set1, \"\", 0)  # Output: {\"\", \"a\", \"b\", \"c\", \"ab\", \"ac\", \"bc\", \"abc\"}\n",
    "\n",
    "set2 = \"abcd\"\n",
    "generateSubsets(set2, \"\", 0)  # Output: {\"\", \"a\", \"ab\", \"abc\", \"abcd\", \"abd\", \"ac\", \"acd\", \"ad\", \"b\", \"bc\", \"bcd\", \"bd\", \"c\", \"cd\", \"d\"}\n"
   ]
  },
  {
   "cell_type": "markdown",
   "id": "9db7dd39-cbb6-4a51-891a-47d212bcd2e5",
   "metadata": {},
   "source": [
    "<aside>\n",
    "💡 **Question 4**\n",
    "\n",
    "Given a string calculate length of the string using recursion.\n",
    "\n",
    "**Examples:**\n",
    "\n",
    "</aside>"
   ]
  },
  {
   "cell_type": "markdown",
   "id": "e026e90d-52bc-49bb-86d7-3cc3eeae9397",
   "metadata": {},
   "source": [
    "<aside>\n",
    "💡 **Question 4**\n",
    "\n",
    "Given a string calculate length of the string using recursion.\n",
    "\n",
    "**Examples:**\n",
    "\n",
    "</aside>"
   ]
  },
  {
   "cell_type": "code",
   "execution_count": 7,
   "id": "8ae08d45-8a14-4833-a564-9e90ec31324e",
   "metadata": {},
   "outputs": [
    {
     "name": "stdout",
     "output_type": "stream",
     "text": [
      "4\n",
      "13\n"
     ]
    }
   ],
   "source": [
    "def calculateLength(s):\n",
    "    if s == \"\":\n",
    "        return 0\n",
    "    else:\n",
    "        return 1 + calculateLength(s[1:])\n",
    "print(calculateLength(\"abcd\"))  # Output: 4\n",
    "print(calculateLength(\"GEEKSFORGEEKS\"))  # Output: 13\n"
   ]
  },
  {
   "cell_type": "markdown",
   "id": "79e15458-1e92-4260-8348-833bd26fef78",
   "metadata": {},
   "source": [
    "<aside>\n",
    "💡 **Question 5**\n",
    "\n",
    "We are given a string S, we need to find count of all contiguous substrings starting and ending with same character.\n",
    "\n",
    "**Examples :**\n",
    "Input  : S = \"abcab\"\n",
    "Output : 7\n",
    "There are 15 substrings of \"abcab\"\n",
    "a, ab, abc, abca, abcab, b, bc, bca\n",
    "bcab, c, ca, cab, a, ab, b\n",
    "Out of the above substrings, there\n",
    "are 7 substrings : a, abca, b, bcab,\n",
    "c, a and b.\n",
    "\n",
    "Input  : S = \"aba\"\n",
    "Output : 4\n",
    "The substrings are a, b, a and aba\n",
    "</aside>"
   ]
  },
  {
   "cell_type": "code",
   "execution_count": 8,
   "id": "b2f6cdaa-f57f-4b84-a851-9d0810d5c004",
   "metadata": {},
   "outputs": [
    {
     "name": "stdout",
     "output_type": "stream",
     "text": [
      "7\n",
      "4\n"
     ]
    }
   ],
   "source": [
    "def countContiguousSubstrings(s):\n",
    "    count = 0\n",
    "    for i in range(len(s)):\n",
    "        for j in range(i, len(s)):\n",
    "            if s[i] == s[j]:\n",
    "                count += 1\n",
    "    return count\n",
    "print(countContiguousSubstrings(\"abcab\"))  # Output: 7\n",
    "print(countContiguousSubstrings(\"aba\"))  # Output: 4\n"
   ]
  },
  {
   "cell_type": "markdown",
   "id": "227f78b1-f8ce-4029-8115-5fd9cb16ed0b",
   "metadata": {},
   "source": [
    "<aside>\n",
    "💡 **Question 6**\n",
    "\n",
    "The [tower of Hanoi](https://en.wikipedia.org/wiki/Tower_of_Hanoi) is a famous puzzle where we have three rods and **N** disks. The objective of the puzzle is to move the entire stack to another rod. You are given the number of discs **N**. Initially, these discs are in the rod 1. You need to print all the steps of discs movement so that all the discs reach the 3rd rod. Also, you need to find the total moves.**Note:** The discs are arranged such that the **top disc is numbered 1** and the **bottom-most disc is numbered N**. Also, all the discs have **different sizes** and a bigger disc **cannot** be put on the top of a smaller disc. Refer the provided link to get a better clarity about the puzzle.\n",
    "\n",
    "**Example 1:**\n",
    "\n",
    "</aside>"
   ]
  },
  {
   "cell_type": "markdown",
   "id": "f2cb15aa-8afa-4334-af32-ed9d2ad26f71",
   "metadata": {},
   "source": [
    "<aside>\n",
    "💡 **Question 7**\n",
    "\n",
    "Given a string **str**, the task is to print all the permutations of **str**. A **permutation** is an arrangement of all or part of a set of objects, with regard to the order of the arrangement. For instance, the words ‘bat’ and ‘tab’ represents two distinct permutation (or arrangements) of a similar three letter word.\n",
    "\n",
    "**Examples:**\n",
    "\n",
    "> Input: str = “cd”\n",
    "> \n",
    "> \n",
    "> **Output:** cd dc\n",
    "> \n",
    "> **Input:** str = “abb”\n",
    "> \n",
    "> **Output:** abb abb bab bba bab bba\n",
    "> \n",
    "</aside>"
   ]
  },
  {
   "cell_type": "markdown",
   "id": "54c1577d-56ae-4f4d-b651-a102ebfb66c2",
   "metadata": {},
   "source": [
    "<aside>\n",
    "💡 **Question 8**\n",
    "\n",
    "Given a string, count total number of consonants in it. A consonant is an English alphabet character that is not vowel (a, e, i, o and u). Examples of constants are b, c, d, f, and g.\n",
    "\n",
    "**Examples :**\n",
    "\n",
    "</aside>"
   ]
  }
 ],
 "metadata": {
  "kernelspec": {
   "display_name": "Python 3 (ipykernel)",
   "language": "python",
   "name": "python3"
  },
  "language_info": {
   "codemirror_mode": {
    "name": "ipython",
    "version": 3
   },
   "file_extension": ".py",
   "mimetype": "text/x-python",
   "name": "python",
   "nbconvert_exporter": "python",
   "pygments_lexer": "ipython3",
   "version": "3.10.6"
  }
 },
 "nbformat": 4,
 "nbformat_minor": 5
}
