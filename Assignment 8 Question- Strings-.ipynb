{
 "cells": [
  {
   "cell_type": "markdown",
   "id": "bf7537d6-dbde-4591-83c6-adc26d13845b",
   "metadata": {},
   "source": [
    "Question 1\n",
    "Given two strings s1 and s2, return *the lowest **ASCII** sum of deleted characters to make two strings equal*.\n",
    "\n",
    "**Example 1:**\n",
    "\n",
    "**Input:** s1 = \"sea\", s2 = \"eat\"\n",
    "\n",
    "**Output:** 231\n",
    "\n",
    "**Explanation:** Deleting \"s\" from \"sea\" adds the ASCII value of \"s\" (115) to the sum.\n",
    "\n",
    "Deleting \"t\" from \"eat\" adds 116 to the sum.\n",
    "\n",
    "At the end, both strings are equal, and 115 + 116 = 231 is the minimum sum possible to achieve this."
   ]
  },
  {
   "cell_type": "code",
   "execution_count": 2,
   "id": "2003a717-1feb-414b-9e35-71d899164125",
   "metadata": {},
   "outputs": [],
   "source": [
    "def minimumDeleteSum(s1, s2):\n",
    "    m, n = len(s1), len(s2)\n",
    "    dp = [[0] * (n+1) for _ in range(m+1)]\n",
    "\n",
    "    # Initialize base cases\n",
    "    for i in range(1, m+1):\n",
    "        dp[i][0] = dp[i-1][0] + ord(s1[i-1])\n",
    "    for j in range(1, n+1):\n",
    "        dp[0][j] = dp[0][j-1] + ord(s2[j-1])\n",
    "\n",
    "    # Fill in the remaining cells\n",
    "    for i in range(1, m+1):\n",
    "        for j in range(1, n+1):\n",
    "            if s1[i-1] == s2[j-1]:\n",
    "                dp[i][j] = dp[i-1][j-1]\n",
    "            else:\n",
    "                dp[i][j] = min(dp[i-1][j] + ord(s1[i-1]), dp[i][j-1] + ord(s2[j-1]))\n",
    "\n",
    "    return dp"
   ]
  },
  {
   "cell_type": "code",
   "execution_count": 3,
   "id": "de1d7766-6308-4710-a138-4b225c8aaae1",
   "metadata": {},
   "outputs": [
    {
     "data": {
      "text/plain": [
       "[[0, 68, 172, 269, 383],\n",
       " [74, 142, 246, 343, 457],\n",
       " [185, 253, 357, 454, 568],\n",
       " [306, 374, 478, 575, 689],\n",
       " [412, 480, 584, 681, 795],\n",
       " [517, 585, 689, 786, 900],\n",
       " [633, 701, 805, 902, 1016]]"
      ]
     },
     "execution_count": 3,
     "metadata": {},
     "output_type": "execute_result"
    }
   ],
   "source": [
    "minimumDeleteSum(\"Joyjit\", \"Dhar\")\n"
   ]
  },
  {
   "cell_type": "markdown",
   "id": "646cc4ce-4ed8-4f52-b559-e5f396b5cf44",
   "metadata": {},
   "source": [
    "<aside>\n",
    "💡 **Question 2**\n",
    "\n",
    "Given a string s containing only three types of characters: '(', ')' and '*', return true *if* s *is **valid***.\n",
    "\n",
    "The following rules define a **valid** string:\n",
    "\n",
    "- Any left parenthesis '(' must have a corresponding right parenthesis ')'.\n",
    "- Any right parenthesis ')' must have a corresponding left parenthesis '('.\n",
    "- Left parenthesis '(' must go before the corresponding right parenthesis ')'.\n",
    "- '*' could be treated as a single right parenthesis ')' or a single left parenthesis '(' or an empty string \"\".\n",
    "\n",
    "**Example 1:**\n",
    "\n",
    "**Input:** s = \"()\"\n",
    "\n",
    "**Output:**\n",
    "\n",
    "true\n",
    "\n",
    "</aside>\n"
   ]
  },
  {
   "cell_type": "code",
   "execution_count": 4,
   "id": "5f919e5d-24d6-4575-bb86-c2ba612a3952",
   "metadata": {},
   "outputs": [],
   "source": [
    "def isValid(s):\n",
    "    stack = []\n",
    "\n",
    "    for c in s:\n",
    "        if c == '(' or c == '*':\n",
    "            stack.append(c)\n",
    "        elif c == ')':\n",
    "            if stack and stack[-1] == '(':\n",
    "                stack.pop()\n",
    "            elif stack and stack[-1] == '*':\n",
    "                stack.pop()\n",
    "            elif not stack:\n",
    "                return False\n",
    "\n",
    "    while stack:\n",
    "        if stack[-1] == '(':\n",
    "            stack.pop()\n",
    "        elif stack[-1] == '*':\n",
    "            stack.pop()\n",
    "        else:\n",
    "            return False\n",
    "\n",
    "    return True if not stack else False\n"
   ]
  },
  {
   "cell_type": "code",
   "execution_count": 5,
   "id": "deec5ec6-5438-4116-ba36-d4d44917074a",
   "metadata": {},
   "outputs": [
    {
     "name": "stdout",
     "output_type": "stream",
     "text": [
      "True\n"
     ]
    }
   ],
   "source": [
    "s = \"()\"\n",
    "print(isValid(s))  # Output: True\n"
   ]
  },
  {
   "cell_type": "markdown",
   "id": "cc1a38dd-1c9f-4c57-bd31-4762f1c93d0b",
   "metadata": {},
   "source": [
    "<aside>\n",
    "💡 **Question 3**\n",
    "\n",
    "Given two strings word1 and word2, return *the minimum number of **steps** required to make* word1 *and* word2 *the same*.\n",
    "\n",
    "In one **step**, you can delete exactly one character in either string.\n",
    "\n",
    "**Example 1:**\n",
    "\n",
    "**Input:** word1 = \"sea\", word2 = \"eat\"\n",
    "\n",
    "**Output:** 2\n",
    "\n",
    "**Explanation:** You need one step to make \"sea\" to \"ea\" and another step to make \"eat\" to \"ea\".\n",
    "\n",
    "</aside>"
   ]
  },
  {
   "cell_type": "code",
   "execution_count": 6,
   "id": "ccc6d3e1-cd11-4214-b195-2394aa89cf5d",
   "metadata": {},
   "outputs": [],
   "source": [
    "def minSteps(word1, word2):\n",
    "    m, n = len(word1), len(word2)\n",
    "    dp = [[0] * (n+1) for _ in range(m+1)]\n",
    "\n",
    "    # Initialize base cases\n",
    "    for i in range(1, m+1):\n",
    "        dp[i][0] = 0\n",
    "    for j in range(1, n+1):\n",
    "        dp[0][j] = 0\n",
    "\n",
    "    # Fill in the remaining cells\n",
    "    for i in range(1, m+1):\n",
    "        for j in range(1, n+1):\n",
    "            if word1[i-1] == word2[j-1]:\n",
    "                dp[i][j] = dp[i-1][j-1] + 1\n",
    "            else:\n",
    "                dp[i][j] = max(dp[i-1][j], dp[i][j-1])\n",
    "\n",
    "    lcs_length = dp[m][n]\n",
    "    return m + n - 2 * lcs_length\n"
   ]
  },
  {
   "cell_type": "code",
   "execution_count": 7,
   "id": "0a3fa2ce-3309-41bf-adfd-a015fb82d4ed",
   "metadata": {},
   "outputs": [
    {
     "name": "stdout",
     "output_type": "stream",
     "text": [
      "2\n"
     ]
    }
   ],
   "source": [
    "word1 = \"sea\"\n",
    "word2 = \"eat\"\n",
    "print(minSteps(word1, word2))  # Output: 2\n"
   ]
  },
  {
   "cell_type": "markdown",
   "id": "e8174407-1dbc-432c-92da-fd3ebba98466",
   "metadata": {},
   "source": [
    "<aside>\n",
    "💡 **Question 4**\n",
    "\n",
    "You need to construct a binary tree from a string consisting of parenthesis and integers.\n",
    "\n",
    "The whole input represents a binary tree. It contains an integer followed by zero, one or two pairs of parenthesis. The integer represents the root's value and a pair of parenthesis contains a child binary tree with the same structure.\n",
    "You always start to construct the **left** child node of the parent first if it exists.\n",
    "\n",
    "![Screenshot 2023-05-29 010548.png](https://s3-us-west-2.amazonaws.com/secure.notion-static.com/bdbea2d1-34a4-4c4b-a450-ea6db7410c43/Screenshot_2023-05-29_010548.png)\n",
    "\n",
    "**Input:** s = \"4(2(3)(1))(6(5))\"\n",
    "\n",
    "**Output:** [4,2,6,3,1,5]\n",
    "\n",
    "</aside>"
   ]
  },
  {
   "cell_type": "code",
   "execution_count": 8,
   "id": "a780532a-165c-4b3b-b408-8c1881ccb568",
   "metadata": {},
   "outputs": [],
   "source": [
    "class TreeNode:\n",
    "    def __init__(self, val=0, left=None, right=None):\n",
    "        self.val = val\n",
    "        self.left = left\n",
    "        self.right = right\n",
    "\n",
    "def buildTree(s):\n",
    "    if not s:\n",
    "        return None\n",
    "\n",
    "    # Find the index of the first '('\n",
    "    mid = s.find('(')\n",
    "\n",
    "    # Extract the value of the current node\n",
    "    value = int(s[:mid])\n",
    "\n",
    "    # Create a new TreeNode with the value\n",
    "    node = TreeNode(value)\n",
    "\n",
    "    # Find the index of the matching ')'\n",
    "    matching_index = find_matching_parenthesis(s)\n",
    "\n",
    "    # Construct the left subtree\n",
    "    left_subtree = s[mid+1:matching_index]\n",
    "    node.left = buildTree(left_subtree)\n",
    "\n",
    "    # Construct the right subtree if there are remaining characters\n",
    "    if matching_index + 1 < len(s):\n",
    "        right_subtree = s[matching_index+2:]\n",
    "        node.right = buildTree(right_subtree)\n",
    "\n",
    "    return node\n",
    "\n",
    "def find_matching_parenthesis(s):\n",
    "    stack = []\n",
    "    for i, char in enumerate(s):\n",
    "        if char == '(':\n",
    "            stack.append('(')\n",
    "        elif char == ')':\n",
    "            stack.pop()\n",
    "            if not stack:\n",
    "                return i\n",
    "    return -1\n",
    "\n",
    "def str2tree(s):\n",
    "    return buildTree(s)\n"
   ]
  },
  {
   "cell_type": "code",
   "execution_count": 9,
   "id": "f6531cad-3bae-4344-9549-c72a8293e92a",
   "metadata": {},
   "outputs": [
    {
     "ename": "ValueError",
     "evalue": "invalid literal for int() with base 10: ''",
     "output_type": "error",
     "traceback": [
      "\u001b[0;31m---------------------------------------------------------------------------\u001b[0m",
      "\u001b[0;31mValueError\u001b[0m                                Traceback (most recent call last)",
      "Cell \u001b[0;32mIn [9], line 2\u001b[0m\n\u001b[1;32m      1\u001b[0m s \u001b[38;5;241m=\u001b[39m \u001b[38;5;124m\"\u001b[39m\u001b[38;5;124m4(2(3)(1))(6(5))\u001b[39m\u001b[38;5;124m\"\u001b[39m\n\u001b[0;32m----> 2\u001b[0m result \u001b[38;5;241m=\u001b[39m \u001b[43mstr2tree\u001b[49m\u001b[43m(\u001b[49m\u001b[43ms\u001b[49m\u001b[43m)\u001b[49m\n",
      "Cell \u001b[0;32mIn [8], line 46\u001b[0m, in \u001b[0;36mstr2tree\u001b[0;34m(s)\u001b[0m\n\u001b[1;32m     45\u001b[0m \u001b[38;5;28;01mdef\u001b[39;00m \u001b[38;5;21mstr2tree\u001b[39m(s):\n\u001b[0;32m---> 46\u001b[0m     \u001b[38;5;28;01mreturn\u001b[39;00m \u001b[43mbuildTree\u001b[49m\u001b[43m(\u001b[49m\u001b[43ms\u001b[49m\u001b[43m)\u001b[49m\n",
      "Cell \u001b[0;32mIn [8], line 25\u001b[0m, in \u001b[0;36mbuildTree\u001b[0;34m(s)\u001b[0m\n\u001b[1;32m     23\u001b[0m \u001b[38;5;66;03m# Construct the left subtree\u001b[39;00m\n\u001b[1;32m     24\u001b[0m left_subtree \u001b[38;5;241m=\u001b[39m s[mid\u001b[38;5;241m+\u001b[39m\u001b[38;5;241m1\u001b[39m:matching_index]\n\u001b[0;32m---> 25\u001b[0m node\u001b[38;5;241m.\u001b[39mleft \u001b[38;5;241m=\u001b[39m \u001b[43mbuildTree\u001b[49m\u001b[43m(\u001b[49m\u001b[43mleft_subtree\u001b[49m\u001b[43m)\u001b[49m\n\u001b[1;32m     27\u001b[0m \u001b[38;5;66;03m# Construct the right subtree if there are remaining characters\u001b[39;00m\n\u001b[1;32m     28\u001b[0m \u001b[38;5;28;01mif\u001b[39;00m matching_index \u001b[38;5;241m+\u001b[39m \u001b[38;5;241m1\u001b[39m \u001b[38;5;241m<\u001b[39m \u001b[38;5;28mlen\u001b[39m(s):\n",
      "Cell \u001b[0;32mIn [8], line 25\u001b[0m, in \u001b[0;36mbuildTree\u001b[0;34m(s)\u001b[0m\n\u001b[1;32m     23\u001b[0m \u001b[38;5;66;03m# Construct the left subtree\u001b[39;00m\n\u001b[1;32m     24\u001b[0m left_subtree \u001b[38;5;241m=\u001b[39m s[mid\u001b[38;5;241m+\u001b[39m\u001b[38;5;241m1\u001b[39m:matching_index]\n\u001b[0;32m---> 25\u001b[0m node\u001b[38;5;241m.\u001b[39mleft \u001b[38;5;241m=\u001b[39m \u001b[43mbuildTree\u001b[49m\u001b[43m(\u001b[49m\u001b[43mleft_subtree\u001b[49m\u001b[43m)\u001b[49m\n\u001b[1;32m     27\u001b[0m \u001b[38;5;66;03m# Construct the right subtree if there are remaining characters\u001b[39;00m\n\u001b[1;32m     28\u001b[0m \u001b[38;5;28;01mif\u001b[39;00m matching_index \u001b[38;5;241m+\u001b[39m \u001b[38;5;241m1\u001b[39m \u001b[38;5;241m<\u001b[39m \u001b[38;5;28mlen\u001b[39m(s):\n",
      "Cell \u001b[0;32mIn [8], line 15\u001b[0m, in \u001b[0;36mbuildTree\u001b[0;34m(s)\u001b[0m\n\u001b[1;32m     12\u001b[0m mid \u001b[38;5;241m=\u001b[39m s\u001b[38;5;241m.\u001b[39mfind(\u001b[38;5;124m'\u001b[39m\u001b[38;5;124m(\u001b[39m\u001b[38;5;124m'\u001b[39m)\n\u001b[1;32m     14\u001b[0m \u001b[38;5;66;03m# Extract the value of the current node\u001b[39;00m\n\u001b[0;32m---> 15\u001b[0m value \u001b[38;5;241m=\u001b[39m \u001b[38;5;28;43mint\u001b[39;49m\u001b[43m(\u001b[49m\u001b[43ms\u001b[49m\u001b[43m[\u001b[49m\u001b[43m:\u001b[49m\u001b[43mmid\u001b[49m\u001b[43m]\u001b[49m\u001b[43m)\u001b[49m\n\u001b[1;32m     17\u001b[0m \u001b[38;5;66;03m# Create a new TreeNode with the value\u001b[39;00m\n\u001b[1;32m     18\u001b[0m node \u001b[38;5;241m=\u001b[39m TreeNode(value)\n",
      "\u001b[0;31mValueError\u001b[0m: invalid literal for int() with base 10: ''"
     ]
    }
   ],
   "source": [
    "s = \"4(2(3)(1))(6(5))\"\n",
    "result = str2tree(s)\n"
   ]
  },
  {
   "cell_type": "markdown",
   "id": "743381ce-8dc1-492d-8b9a-156b682cc192",
   "metadata": {},
   "source": [
    "<aside>\n",
    "💡 **Question 5**\n",
    "\n",
    "Given an array of characters chars, compress it using the following algorithm:\n",
    "\n",
    "Begin with an empty string s. For each group of **consecutive repeating characters** in chars:\n",
    "\n",
    "- If the group's length is 1, append the character to s.\n",
    "- Otherwise, append the character followed by the group's length.\n",
    "\n",
    "The compressed string s **should not be returned separately**, but instead, be stored **in the input character array chars**. Note that group lengths that are 10 or longer will be split into multiple characters in chars.\n",
    "\n",
    "After you are done **modifying the input array,** return *the new length of the array*.\n",
    "\n",
    "You must write an algorithm that uses only constant extra space.\n",
    "\n",
    "**Example 1:**\n",
    "\n",
    "**Input:** chars = [\"a\",\"a\",\"b\",\"b\",\"c\",\"c\",\"c\"]\n",
    "\n",
    "**Output:** Return 6, and the first 6 characters of the input array should be: [\"a\",\"2\",\"b\",\"2\",\"c\",\"3\"]\n",
    "\n",
    "**Explanation:**\n",
    "\n",
    "The groups are \"aa\", \"bb\", and \"ccc\". This compresses to \"a2b2c3\".\n",
    "\n",
    "</aside>\n"
   ]
  },
  {
   "cell_type": "code",
   "execution_count": 10,
   "id": "2b0ed619-24f6-48f0-b650-fbd1d975aa74",
   "metadata": {},
   "outputs": [],
   "source": [
    "def compress(chars):\n",
    "    write = 0  # Pointer to update the array with compressed characters\n",
    "    count = 1  # Number of consecutive repeating characters\n",
    "    n = len(chars)\n",
    "\n",
    "    for read in range(1, n):\n",
    "        if chars[read] == chars[read-1]:\n",
    "            count += 1\n",
    "        else:\n",
    "            chars[write] = chars[read-1]\n",
    "            write += 1\n",
    "            if count > 1:\n",
    "                count_str = str(count)\n",
    "                for digit in count_str:\n",
    "                    chars[write] = digit\n",
    "                    write += 1\n",
    "            count = 1\n",
    "\n",
    "    # Write the last character and its count if applicable\n",
    "    chars[write] = chars[n-1]\n",
    "    write += 1\n",
    "    if count > 1:\n",
    "        count_str = str(count)\n",
    "        for digit in count_str:\n",
    "            chars[write] = digit\n",
    "            write += 1\n",
    "\n",
    "    return write\n"
   ]
  },
  {
   "cell_type": "code",
   "execution_count": 11,
   "id": "d7ae19ed-4a78-4cbe-9d80-e4b2510d036b",
   "metadata": {},
   "outputs": [
    {
     "name": "stdout",
     "output_type": "stream",
     "text": [
      "6\n",
      "['a', '2', 'b', '2', 'c', '3']\n"
     ]
    }
   ],
   "source": [
    "chars = [\"a\", \"a\", \"b\", \"b\", \"c\", \"c\", \"c\"]\n",
    "result = compress(chars)\n",
    "print(result)  # Output: 6\n",
    "print(chars[:result])  # Output: [\"a\", \"2\", \"b\", \"2\", \"c\", \"3\"]\n"
   ]
  },
  {
   "cell_type": "markdown",
   "id": "3b0767b3-4e81-4365-9d87-9d82a8901105",
   "metadata": {},
   "source": [
    "<aside>\n",
    "💡 **Question 6**\n",
    "\n",
    "Given two strings s and p, return *an array of all the start indices of* p*'s anagrams in* s. You may return the answer in **any order**.\n",
    "\n",
    "An **Anagram** is a word or phrase formed by rearranging the letters of a different word or phrase, typically using all the original letters exactly once.\n",
    "\n",
    "**Example 1:**\n",
    "\n",
    "**Input:** s = \"cbaebabacd\", p = \"abc\"\n",
    "\n",
    "**Output:** [0,6]\n",
    "\n",
    "**Explanation:**\n",
    "\n",
    "The substring with start index = 0 is \"cba\", which is an anagram of \"abc\".\n",
    "\n",
    "The substring with start index = 6 is \"bac\", which is an anagram of \"abc\".\n",
    "\n",
    "</aside>"
   ]
  },
  {
   "cell_type": "code",
   "execution_count": 12,
   "id": "d066324c-1a39-4a51-9d9a-0d7aba7f45e0",
   "metadata": {},
   "outputs": [],
   "source": [
    "def findAnagrams(s, p):\n",
    "    result = []  # List to store the start indices of anagrams\n",
    "    p_count = [0] * 26  # Count of characters in p\n",
    "    window_count = [0] * 26  # Count of characters in the current window\n",
    "\n",
    "    # Count characters in p\n",
    "    for char in p:\n",
    "        p_count[ord(char) - ord('a')] += 1\n",
    "\n",
    "    window_start = 0\n",
    "    window_end = 0\n",
    "\n",
    "    while window_end < len(s):\n",
    "        # Expand the window\n",
    "        window_count[ord(s[window_end]) - ord('a')] += 1\n",
    "\n",
    "        # Check if the window is of length p\n",
    "        if window_end - window_start + 1 == len(p):\n",
    "            # Check if the window is an anagram\n",
    "            if window_count == p_count:\n",
    "                result.append(window_start)\n",
    "\n",
    "            # Slide the window to the right\n",
    "            window_count[ord(s[window_start]) - ord('a')] -= 1\n",
    "            window_start += 1\n",
    "\n",
    "        window_end += 1\n",
    "\n",
    "    return result\n"
   ]
  },
  {
   "cell_type": "code",
   "execution_count": 13,
   "id": "dd8e9fe0-de14-4b2c-9ab0-02b3df4d7277",
   "metadata": {},
   "outputs": [
    {
     "name": "stdout",
     "output_type": "stream",
     "text": [
      "[0, 6]\n"
     ]
    }
   ],
   "source": [
    "s = \"cbaebabacd\"\n",
    "p = \"abc\"\n",
    "result = findAnagrams(s, p)\n",
    "print(result)  # Output: [0, 6]\n"
   ]
  },
  {
   "cell_type": "markdown",
   "id": "e0ea65a7-507d-4359-aeb6-3718d97c7ea2",
   "metadata": {},
   "source": [
    "<aside>\n",
    "💡 **Question 7**\n",
    "\n",
    "Given an encoded string, return its decoded string.\n",
    "\n",
    "The encoding rule is: k[encoded_string], where the encoded_string inside the square brackets is being repeated exactly k times. Note that k is guaranteed to be a positive integer.\n",
    "\n",
    "You may assume that the input string is always valid; there are no extra white spaces, square brackets are well-formed, etc. Furthermore, you may assume that the original data does not contain any digits and that digits are only for those repeat numbers, k. For example, there will not be input like 3a or 2[4].\n",
    "\n",
    "The test cases are generated so that the length of the output will never exceed 105.\n",
    "\n",
    "**Example 1:**\n",
    "\n",
    "**Input:** s = \"3[a]2[bc]\"\n",
    "\n",
    "**Output:** \"aaabcbc\"\n",
    "\n",
    "</aside>"
   ]
  },
  {
   "cell_type": "code",
   "execution_count": 14,
   "id": "e27a5b15-9cc1-4d5b-a1b4-5a4bf3c6e5aa",
   "metadata": {},
   "outputs": [],
   "source": [
    "def decodeString(s):\n",
    "    stack = []  # Stack to store encoded strings and their repeat counts\n",
    "    current_string = \"\"  # Current encoded string being processed\n",
    "    repeat_count = 0  # Repeat count of the current encoded string\n",
    "\n",
    "    for c in s:\n",
    "        if c.isdigit():\n",
    "            repeat_count = repeat_count * 10 + int(c)\n",
    "        elif c == \"[\":\n",
    "            stack.append((current_string, repeat_count))\n",
    "            current_string = \"\"\n",
    "            repeat_count = 0\n",
    "        elif c == \"]\":\n",
    "            prev_string, prev_count = stack.pop()\n",
    "            current_string = prev_string + current_string * prev_count\n",
    "        else:\n",
    "            current_string += c\n",
    "\n",
    "    return current_string\n"
   ]
  },
  {
   "cell_type": "markdown",
   "id": "be11e632-2825-4ef1-b285-572ba1f1dbcf",
   "metadata": {},
   "source": [
    "<aside>\n",
    "💡 **Question 8**\n",
    "\n",
    "Given two strings s and goal, return true *if you can swap two letters in* s *so the result is equal to* goal*, otherwise, return* false*.*\n",
    "\n",
    "Swapping letters is defined as taking two indices i and j (0-indexed) such that i != j and swapping the characters at s[i] and s[j].\n",
    "\n",
    "- For example, swapping at indices 0 and 2 in \"abcd\" results in \"cbad\".\n",
    "\n",
    "**Example 1:**\n",
    "\n",
    "**Input:** s = \"ab\", goal = \"ba\"\n",
    "\n",
    "**Output:** true\n",
    "\n",
    "**Explanation:** You can swap s[0] = 'a' and s[1] = 'b' to get \"ba\", which is equal to goal.\n",
    "\n",
    "</aside>"
   ]
  }
 ],
 "metadata": {
  "kernelspec": {
   "display_name": "Python 3 (ipykernel)",
   "language": "python",
   "name": "python3"
  },
  "language_info": {
   "codemirror_mode": {
    "name": "ipython",
    "version": 3
   },
   "file_extension": ".py",
   "mimetype": "text/x-python",
   "name": "python",
   "nbconvert_exporter": "python",
   "pygments_lexer": "ipython3",
   "version": "3.10.6"
  }
 },
 "nbformat": 4,
 "nbformat_minor": 5
}
