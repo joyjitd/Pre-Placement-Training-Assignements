{
 "cells": [
  {
   "cell_type": "markdown",
   "id": "b0958722-ee6d-437a-82a0-f56edb3f8fa1",
   "metadata": {},
   "source": [
    "Question 1:Given an integer `n`, return *`true` if it is a power of two. Otherwise, return `false`*.\n",
    "\n",
    "An integer `n` is a power of two, if there exists an integer `x` such that `n == 2x`.\n",
    "\n",
    "**Example 1:**\n",
    "Input: n = 1 \n",
    "\n",
    "Output: true\n",
    "\n",
    "**Example 2:**\n",
    "Input: n = 16 \n",
    "\n",
    "Output: true\n",
    "\n",
    "**Example 3:**\n",
    "Input: n = 3 \n",
    "\n",
    "Output: false \n"
   ]
  },
  {
   "cell_type": "code",
   "execution_count": 1,
   "id": "9cdd6fee-9f08-421b-a4b1-8a9dd0695541",
   "metadata": {},
   "outputs": [],
   "source": [
    "def isPowerOfTwo(n):\n",
    "    if n <= 0:\n",
    "        return False\n",
    "    else:\n",
    "        # Keep dividing n by 2 until it becomes 1 or an odd number\n",
    "        while n % 2 == 0:\n",
    "            n = n // 2\n",
    "        return n == 1\n"
   ]
  },
  {
   "cell_type": "code",
   "execution_count": 2,
   "id": "76827b71-20a3-48fb-b9f4-b508699a91c8",
   "metadata": {},
   "outputs": [
    {
     "name": "stdout",
     "output_type": "stream",
     "text": [
      "True\n",
      "True\n",
      "False\n"
     ]
    }
   ],
   "source": [
    "print(isPowerOfTwo(1))  # Output: True\n",
    "print(isPowerOfTwo(16))  # Output: True\n",
    "print(isPowerOfTwo(3))  # Output: False\n"
   ]
  },
  {
   "cell_type": "markdown",
   "id": "85b23080-3ef4-4ecc-bd1d-1c7ee5e59c8c",
   "metadata": {},
   "source": [
    "Question 2:\n",
    "\n",
    "Given a number n, find the sum of the first natural numbers.\n",
    "\n",
    "**Example 1:**\n",
    "\n",
    "Input: n = 3 \n",
    "\n",
    "Output: 6\n",
    "\n",
    "**Example 2:**\n",
    "\n",
    "Input  : 5 \n",
    "\n",
    "Output : 15"
   ]
  },
  {
   "cell_type": "code",
   "execution_count": 3,
   "id": "1edfb5ed-4345-40c1-8fac-dc78626d057c",
   "metadata": {},
   "outputs": [],
   "source": [
    "def sumOfFirstN(n):\n",
    "    sum = (n * (n + 1)) // 2\n",
    "    return sum\n"
   ]
  },
  {
   "cell_type": "code",
   "execution_count": 4,
   "id": "9edc876e-2b55-45cb-abcf-831e2f96579d",
   "metadata": {},
   "outputs": [
    {
     "name": "stdout",
     "output_type": "stream",
     "text": [
      "6\n",
      "15\n"
     ]
    }
   ],
   "source": [
    "print(sumOfFirstN(3))  # Output: 6\n",
    "print(sumOfFirstN(5))  # Output: 15\n"
   ]
  },
  {
   "cell_type": "markdown",
   "id": "99f45634-06ac-412c-9f2b-9cfc11fcc177",
   "metadata": {},
   "source": [
    "<aside>\n",
    "💡 **Question 3**\n",
    "\n",
    "****Given a positive integer, N. Find the factorial of N. \n",
    "\n",
    "**Example 1:**\n",
    "\n",
    "Input: N = 5 \n",
    "\n",
    "Output: 120\n",
    "\n",
    "**Example 2:**\n",
    "\n",
    "Input: N = 4\n",
    "\n",
    "Output: 24\n",
    "\n",
    "</aside>"
   ]
  },
  {
   "cell_type": "code",
   "execution_count": 6,
   "id": "bcd681ac-b5ed-4332-82d1-ddfd64e0307d",
   "metadata": {},
   "outputs": [],
   "source": [
    "def factorial(N):\n",
    "    result = 1\n",
    "    for i in range(1, N+1):\n",
    "        result *= i\n",
    "    return result\n"
   ]
  },
  {
   "cell_type": "code",
   "execution_count": 7,
   "id": "bda88969-5c39-414c-b1b0-effbde686278",
   "metadata": {},
   "outputs": [
    {
     "name": "stdout",
     "output_type": "stream",
     "text": [
      "120\n",
      "24\n"
     ]
    }
   ],
   "source": [
    "print(factorial(5))  # Output: 120\n",
    "print(factorial(4))  # Output: 24\n"
   ]
  },
  {
   "cell_type": "markdown",
   "id": "479120b6-7e18-4086-b518-37d0dc1fa394",
   "metadata": {},
   "source": [
    "<aside>\n",
    "💡 **Question 4**\n",
    "\n",
    "Given a number N and a power P, the task is to find the exponent of this number raised to the given power, i.e. N^P.\n",
    "\n",
    "**Example 1 :** \n",
    "\n",
    "Input: N = 5, P = 2\n",
    "\n",
    "Output: 25\n",
    "\n",
    "**Example 2 :**\n",
    "Input: N = 2, P = 5\n",
    "\n",
    "Output: 32\n",
    "\n",
    "</aside>\n"
   ]
  },
  {
   "cell_type": "code",
   "execution_count": 8,
   "id": "f81f98e4-0faa-4d42-951c-79a67cf5b879",
   "metadata": {},
   "outputs": [],
   "source": [
    "def power(N, P):\n",
    "    result = N ** P\n",
    "    return result\n"
   ]
  },
  {
   "cell_type": "code",
   "execution_count": 9,
   "id": "3f9e7f34-9e53-4b3d-b3ea-0d36d2708a11",
   "metadata": {},
   "outputs": [
    {
     "name": "stdout",
     "output_type": "stream",
     "text": [
      "25\n",
      "32\n"
     ]
    }
   ],
   "source": [
    "print(power(5, 2))  # Output: 25\n",
    "print(power(2, 5))  # Output: 32\n"
   ]
  },
  {
   "cell_type": "markdown",
   "id": "b2f52fce-2386-44bc-b9b4-d48b84d242be",
   "metadata": {},
   "source": [
    "<aside>\n",
    "💡 **Question 5**\n",
    "\n",
    "Given an array of integers **arr**, the task is to find maximum element of that array using recursion.\n",
    "\n",
    "**Example 1:**\n",
    "\n",
    "Input: arr = {1, 4, 3, -5, -4, 8, 6};\n",
    "Output: 8\n",
    "\n",
    "**Example 2:**\n",
    "\n",
    "Input: arr = {1, 4, 45, 6, 10, -8};\n",
    "Output: 45\n",
    "\n",
    "</aside>"
   ]
  },
  {
   "cell_type": "code",
   "execution_count": 10,
   "id": "765a0d40-40c7-4310-927f-c73124b5e43d",
   "metadata": {},
   "outputs": [],
   "source": [
    "def findMax(arr, start, end):\n",
    "    # Base case: if there's only one element, return it\n",
    "    if start == end:\n",
    "        return arr[start]\n",
    "    \n",
    "    # Recursive case: divide the array into two halves and find the maximum in each half\n",
    "    mid = (start + end) // 2\n",
    "    max1 = findMax(arr, start, mid)\n",
    "    max2 = findMax(arr, mid+1, end)\n",
    "    \n",
    "    # Compare the two maximums and return the larger one\n",
    "    return max(max1, max2)\n"
   ]
  },
  {
   "cell_type": "code",
   "execution_count": 11,
   "id": "c917205a-f2c2-4c5d-9793-946f3fc4658b",
   "metadata": {},
   "outputs": [
    {
     "name": "stdout",
     "output_type": "stream",
     "text": [
      "8\n",
      "45\n"
     ]
    }
   ],
   "source": [
    "arr1 = [1, 4, 3, -5, -4, 8, 6]\n",
    "print(findMax(arr1, 0, len(arr1)-1))  # Output: 8\n",
    "\n",
    "arr2 = [1, 4, 45, 6, 10, -8]\n",
    "print(findMax(arr2, 0, len(arr2)-1))  # Output: 45\n"
   ]
  },
  {
   "cell_type": "code",
   "execution_count": null,
   "id": "d78875cc-68dd-4a93-b172-515fd75dbc53",
   "metadata": {},
   "outputs": [],
   "source": [
    "<aside>\n",
    "💡 **Question 6**\n",
    "\n",
    "Given first term (a), common difference (d) and a integer N of the Arithmetic Progression series, the task is to find Nth term of the series.\n",
    "\n",
    "**Example 1:**\n",
    "\n",
    "Input : a = 2 d = 1 N = 5\n",
    "Output : 6\n",
    "The 5th term of the series is : 6\n",
    "\n",
    "**Example 2:**\n",
    "\n",
    "Input : a = 5 d = 2 N = 10\n",
    "Output : 23\n",
    "The 10th term of the series is : 23\n",
    "\n",
    "</aside>\n"
   ]
  },
  {
   "cell_type": "code",
   "execution_count": null,
   "id": "40d53ee7-fe9d-452d-bcd2-ec8da564f15b",
   "metadata": {},
   "outputs": [],
   "source": [
    "def nthTermAP(a, d, N):\n",
    "    return a + (N - 1) * d\n"
   ]
  },
  {
   "cell_type": "code",
   "execution_count": null,
   "id": "2cd3f60e-f99c-449e-8103-2d105e4f224e",
   "metadata": {},
   "outputs": [],
   "source": []
  }
 ],
 "metadata": {
  "kernelspec": {
   "display_name": "Python 3 (ipykernel)",
   "language": "python",
   "name": "python3"
  },
  "language_info": {
   "codemirror_mode": {
    "name": "ipython",
    "version": 3
   },
   "file_extension": ".py",
   "mimetype": "text/x-python",
   "name": "python",
   "nbconvert_exporter": "python",
   "pygments_lexer": "ipython3",
   "version": "3.10.6"
  }
 },
 "nbformat": 4,
 "nbformat_minor": 5
}
