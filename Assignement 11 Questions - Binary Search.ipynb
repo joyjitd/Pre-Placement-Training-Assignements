{
 "cells": [
  {
   "cell_type": "code",
   "execution_count": null,
   "id": "9ec38d63-4ad7-4639-b675-3dae3ffdf0f6",
   "metadata": {},
   "outputs": [],
   "source": [
    "\n",
    " **Question 1**\n",
    "\n",
    "Given a non-negative integer `x`, return *the square root of* `x` *rounded down to the nearest integer*. The returned integer should be **non-negative** as well.\n",
    "\n",
    "You **must not use** any built-in exponent function or operator.\n",
    "\n",
    "- For example, do not use `pow(x, 0.5)` in c++ or `x ** 0.5` in python.\n",
    "Input: x = 4\n",
    "Output: 2\n",
    "Explanation: The square root of 4 is 2, so we return 2.\n",
    "Input: x = 8\n",
    "Output: 2\n",
    "Explanation: The square root of 8 is 2.82842..., and since we round it down to the nearest integer, 2 is returned."
   ]
  },
  {
   "cell_type": "code",
   "execution_count": 1,
   "id": "1ff75fe0-1131-403c-8d8c-31b6b83fcdee",
   "metadata": {},
   "outputs": [],
   "source": [
    "def mySqrt(x):\n",
    "    if x == 0:\n",
    "        return 0\n",
    "    \n",
    "    left = 1\n",
    "    right = x\n",
    "    \n",
    "    while left <= right:\n",
    "        mid = left + (right - left) // 2\n",
    "        if mid * mid > x:\n",
    "            right = mid - 1\n",
    "        else:\n",
    "            left = mid + 1\n",
    "    \n",
    "    return left - 1\n"
   ]
  },
  {
   "cell_type": "code",
   "execution_count": 2,
   "id": "985bf586-3856-49aa-ba59-becbf0e84257",
   "metadata": {},
   "outputs": [
    {
     "name": "stdout",
     "output_type": "stream",
     "text": [
      "2\n",
      "2\n"
     ]
    }
   ],
   "source": [
    "print(mySqrt(4))  # Output: 2\n",
    "print(mySqrt(8))  # Output: 2\n"
   ]
  },
  {
   "cell_type": "markdown",
   "id": "fe5358e6-aae9-446c-8e46-26d5e3764612",
   "metadata": {},
   "source": [
    "<aside>\n",
    "💡 **Question 2**\n",
    "\n",
    "A peak element is an element that is strictly greater than its neighbors.\n",
    "\n",
    "Given a **0-indexed** integer array `nums`, find a peak element, and return its index. If the array contains multiple peaks, return the index to **any of the peaks**.\n",
    "\n",
    "You may imagine that `nums[-1] = nums[n] = -∞`. In other words, an element is always considered to be strictly greater than a neighbor that is outside the array.\n",
    "\n",
    "You must write an algorithm that runs in `O(log n)` time.\n",
    "\n",
    "</aside>"
   ]
  },
  {
   "cell_type": "markdown",
   "id": "19a294e6-bad2-4c90-8571-ed27f378bf07",
   "metadata": {},
   "source": [
    "Input: nums = [1,2,3,1]\n",
    "Output: 2\n",
    "Explanation: 3 is a peak element and your function should return the index number 2."
   ]
  },
  {
   "cell_type": "code",
   "execution_count": 3,
   "id": "09240c3f-53af-49fc-b8c5-afbbc33140ed",
   "metadata": {},
   "outputs": [],
   "source": [
    "def findPeakElement(nums):\n",
    "    left = 0\n",
    "    right = len(nums) - 1\n",
    "    \n",
    "    while left < right:\n",
    "        mid = left + (right - left) // 2\n",
    "        \n",
    "        if nums[mid] < nums[mid + 1]:\n",
    "            left = mid + 1\n",
    "        else:\n",
    "            right = mid\n",
    "    \n",
    "    return left\n",
    "\n"
   ]
  },
  {
   "cell_type": "code",
   "execution_count": 4,
   "id": "ec4a3431-f4f1-488c-9289-df5e6dcdf912",
   "metadata": {},
   "outputs": [
    {
     "name": "stdout",
     "output_type": "stream",
     "text": [
      "2\n"
     ]
    }
   ],
   "source": [
    "nums = [1, 2, 3, 1]\n",
    "print(findPeakElement(nums))  # Output: 2\n",
    "\n",
    "\n"
   ]
  },
  {
   "cell_type": "markdown",
   "id": "c5410281-5275-4d4f-99eb-13382911bc6b",
   "metadata": {},
   "source": [
    "<aside>\n",
    "💡 **Question 3**\n",
    "\n",
    "****\n",
    "\n",
    "Given an array `nums` containing `n` distinct numbers in the range `[0, n]`, return *the only number in the range that is missing from the array.*\n",
    "\n",
    "**Example 1:**\n",
    "Input: nums = [3,0,1]\n",
    "Output: 2\n",
    "Explanation: n = 3 since there are 3 numbers, so all numbers are in the range [0,3]. 2 is the missing number in the range since it does not appear in nums.\n",
    "\n",
    "</aside>"
   ]
  },
  {
   "cell_type": "code",
   "execution_count": 5,
   "id": "614c55fb-517b-402f-a312-9ec761bfdbe4",
   "metadata": {},
   "outputs": [
    {
     "name": "stdout",
     "output_type": "stream",
     "text": [
      "2\n"
     ]
    }
   ],
   "source": [
    "def missingNumber(nums):\n",
    "    n = len(nums)\n",
    "    expected_sum = (n * (n + 1)) // 2\n",
    "    actual_sum = sum(nums)\n",
    "    return expected_sum - actual_sum\n",
    "print(missingNumber([3, 0, 1]))  # Output: 2\n"
   ]
  },
  {
   "cell_type": "markdown",
   "id": "3cc2f770-2ffb-49b2-b80d-cbefb006d411",
   "metadata": {},
   "source": [
    "<aside>\n",
    "💡 **Question 4**\n",
    "\n",
    "Given an array of integers `nums` containing `n + 1` integers where each integer is in the range `[1, n]` inclusive.\n",
    "\n",
    "There is only **one repeated number** in `nums`, return *this repeated number*.\n",
    "\n",
    "You must solve the problem **without** modifying the array `nums` and uses only constant extra space.\n",
    "\n",
    "**Example 1:**\n",
    "Input: nums = [1,3,4,2,2]\n",
    "Output: 2\n",
    "\n",
    "</aside>"
   ]
  },
  {
   "cell_type": "code",
   "execution_count": 8,
   "id": "5c2ed4d8-8d88-4599-acd9-c14995c64c63",
   "metadata": {},
   "outputs": [],
   "source": [
    "def findDuplicate(nums):\n",
    "    slow = nums[0]\n",
    "    fast = nums[0]\n",
    "\n",
    "    # Move slow pointer by 1 step and fast pointer by 2 steps\n",
    "    while True:\n",
    "        slow = nums[slow]\n",
    "        fast = nums[nums[fast]]\n",
    "        if slow == fast:\n",
    "            break\n",
    "\n",
    "    # Move slow pointer to the start and move both pointers at the same speed\n",
    "    slow = nums[0]\n",
    "    while slow != fast:\n",
    "        slow = nums[slow]\n",
    "        fast = nums[fast]\n",
    "\n",
    "    return slow\n"
   ]
  },
  {
   "cell_type": "code",
   "execution_count": 9,
   "id": "76d49809-7a91-4fe7-abb0-36871bf59b88",
   "metadata": {},
   "outputs": [
    {
     "name": "stdout",
     "output_type": "stream",
     "text": [
      "2\n"
     ]
    }
   ],
   "source": [
    "print(findDuplicate([1, 3, 4, 2, 2]))  # Output: 2"
   ]
  },
  {
   "cell_type": "code",
   "execution_count": null,
   "id": "ad01c978-e603-4f99-9e30-205bc5b6ba0e",
   "metadata": {},
   "outputs": [],
   "source": [
    "<aside>\n",
    "💡 **Question 5**\n",
    "\n",
    "Given two integer arrays `nums1` and `nums2`, return *an array of their intersection*. Each element in the result must be **unique** and you may return the result in **any order**.\n",
    "\n",
    "**Example 1:**\n",
    "Input: nums1 = [1,2,2,1], nums2 = [2,2]\n",
    "Output: [2]\n",
    "\n",
    "</aside>"
   ]
  },
  {
   "cell_type": "code",
   "execution_count": 10,
   "id": "4ee5d306-a66b-4a82-aad4-b0ddf7db29b7",
   "metadata": {},
   "outputs": [
    {
     "name": "stdout",
     "output_type": "stream",
     "text": [
      "[2]\n"
     ]
    }
   ],
   "source": [
    "def intersection(nums1, nums2):\n",
    "    set1 = set(nums1)\n",
    "    set2 = set(nums2)\n",
    "    return list(set1.intersection(set2))\n",
    "nums1 = [1, 2, 2, 1]\n",
    "nums2 = [2, 2]\n",
    "print(intersection(nums1, nums2))  # Output: [2]\n"
   ]
  },
  {
   "cell_type": "markdown",
   "id": "444ed6b1-b409-4236-ad22-68ee48a8c1c8",
   "metadata": {},
   "source": [
    "Q6:<aside>\n",
    "💡 **Question 6**\n",
    "\n",
    "Suppose an array of length `n` sorted in ascending order is **rotated** between `1` and `n` times. For example, the array `nums = [0,1,2,4,5,6,7]` might become:\n",
    "\n",
    "- `[4,5,6,7,0,1,2]` if it was rotated `4` times.\n",
    "- `[0,1,2,4,5,6,7]` if it was rotated `7` times.\n",
    "\n",
    "Notice that **rotating** an array `[a[0], a[1], a[2], ..., a[n-1]]` 1 time results in the array `[a[n-1], a[0], a[1], a[2], ..., a[n-2]]`.\n",
    "\n",
    "Given the sorted rotated array `nums` of **unique** elements, return *the minimum element of this array*.\n",
    "\n",
    "You must write an algorithm that runs in `O(log n) time.`\n",
    "\n",
    "**Example 1:**\n",
    "\n",
    "</aside>"
   ]
  }
 ],
 "metadata": {
  "kernelspec": {
   "display_name": "Python 3 (ipykernel)",
   "language": "python",
   "name": "python3"
  },
  "language_info": {
   "codemirror_mode": {
    "name": "ipython",
    "version": 3
   },
   "file_extension": ".py",
   "mimetype": "text/x-python",
   "name": "python",
   "nbconvert_exporter": "python",
   "pygments_lexer": "ipython3",
   "version": "3.10.6"
  }
 },
 "nbformat": 4,
 "nbformat_minor": 5
}
